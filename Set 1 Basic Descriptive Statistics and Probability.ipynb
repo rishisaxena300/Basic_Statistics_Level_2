{
 "cells": [
  {
   "cell_type": "code",
   "execution_count": 1,
   "id": "2fc96e1d",
   "metadata": {},
   "outputs": [],
   "source": [
    "#Q1\tLook at the data given below. Plot the data, find the outliers and find out  μ,σ,σ^2\n",
    "import pandas as pd\n",
    "import numpy as np\n"
   ]
  },
  {
   "cell_type": "code",
   "execution_count": 3,
   "id": "abd4a382",
   "metadata": {},
   "outputs": [
    {
     "name": "stdout",
     "output_type": "stream",
     "text": [
      "     Name of company  Measure X\n",
      "0      Allied Signal      24.23\n",
      "1      Bankers Trust      25.53\n",
      "2      General Mills      25.41\n",
      "3     ITT Industries      24.14\n",
      "4   J.P.Morgan & Co.      29.62\n",
      "5    Lehman Brothers      28.25\n",
      "6           Marriott      25.81\n",
      "7                MCI      24.39\n",
      "8      Merrill Lynch      40.26\n",
      "9          Microsoft      32.95\n",
      "10    Morgan Stanley      91.36\n",
      "11  Sun Microsystems      25.99\n",
      "12         Travelers      39.42\n",
      "13        US Airways      26.71\n",
      "14    Warner-Lambert      35.00\n"
     ]
    }
   ],
   "source": [
    "d = {'Name of company': ['Allied Signal', 'Bankers Trust', 'General Mills', 'ITT Industries','J.P.Morgan & Co.',\n",
    "                         'Lehman Brothers','Marriott','MCI','Merrill Lynch','Microsoft','Morgan Stanley','Sun Microsystems',\n",
    "                         'Travelers','US Airways','Warner-Lambert'],\n",
    "'Measure X': [24.23,25.53,25.41,24.14,29.62,28.25,25.81,24.39,40.26,32.95,91.36,25.99,39.42,26.71,35.00]}\n",
    "\n",
    "df = pd.DataFrame(d)\n",
    "\n",
    "print(df)"
   ]
  },
  {
   "cell_type": "code",
   "execution_count": 24,
   "id": "14abee9d",
   "metadata": {},
   "outputs": [
    {
     "data": {
      "text/plain": [
       "33.27133333333333"
      ]
     },
     "execution_count": 24,
     "metadata": {},
     "output_type": "execute_result"
    }
   ],
   "source": [
    "from statistics import stdev, variance, mean\n",
    "mean(df['Measure X'])"
   ]
  },
  {
   "cell_type": "code",
   "execution_count": 17,
   "id": "ff6e999f",
   "metadata": {},
   "outputs": [
    {
     "data": {
      "text/plain": [
       "16.945400921222028"
      ]
     },
     "execution_count": 17,
     "metadata": {},
     "output_type": "execute_result"
    }
   ],
   "source": [
    "stdev(df['Measure X'])"
   ]
  },
  {
   "cell_type": "code",
   "execution_count": 15,
   "id": "7a2d5245",
   "metadata": {},
   "outputs": [
    {
     "data": {
      "text/plain": [
       "287.1466123809524"
      ]
     },
     "execution_count": 15,
     "metadata": {},
     "output_type": "execute_result"
    }
   ],
   "source": [
    "variance(df['Measure X'])"
   ]
  },
  {
   "cell_type": "code",
   "execution_count": 25,
   "id": "68fd25f0",
   "metadata": {},
   "outputs": [
    {
     "data": {
      "text/plain": [
       "<AxesSubplot:>"
      ]
     },
     "execution_count": 25,
     "metadata": {},
     "output_type": "execute_result"
    },
    {
     "data": {
      "image/png": "[encoded data removed]",
      "text/plain": [
       "<Figure size 432x288 with 1 Axes>"
      ]
     },
     "metadata": {
      "needs_background": "light"
     },
     "output_type": "display_data"
    }
   ],
   "source": [
    "df['Measure X'].hist()"
   ]
  },
  {
   "cell_type": "code",
   "execution_count": 26,
   "id": "a516f8ff",
   "metadata": {},
   "outputs": [
    {
     "data": {
      "text/plain": [
       "<AxesSubplot:>"
      ]
     },
     "execution_count": 26,
     "metadata": {},
     "output_type": "execute_result"
    },
    {
     "data": {
      "image/png": "[encoded data removed]",
      "text/plain": [
       "<Figure size 432x288 with 1 Axes>"
      ]
     },
     "metadata": {
      "needs_background": "light"
     },
     "output_type": "display_data"
    }
   ],
   "source": [
    "df.boxplot(column=['Measure X'])"
   ]
  },
  {
   "cell_type": "code",
   "execution_count": null,
   "id": "cef94a2c",
   "metadata": {},
   "outputs": [],
   "source": [
    "#   Morgan Stanley      91.36 is the outlier as seen the value in the "
   ]
  }
 ],
 "metadata": {
  "kernelspec": {
   "display_name": "Python 3 (ipykernel)",
   "language": "python",
   "name": "python3"
  },
  "language_info": {
   "codemirror_mode": {
    "name": "ipython",
    "version": 3
   },
   "file_extension": ".py",
   "mimetype": "text/x-python",
   "name": "python",
   "nbconvert_exporter": "python",
   "pygments_lexer": "ipython3",
   "version": "3.9.7"
  }
 },
 "nbformat": 4,
 "nbformat_minor": 5
}
